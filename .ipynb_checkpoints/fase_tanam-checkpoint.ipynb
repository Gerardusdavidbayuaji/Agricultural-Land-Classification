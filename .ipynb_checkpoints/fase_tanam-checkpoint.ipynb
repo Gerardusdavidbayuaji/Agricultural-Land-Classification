{
 "cells": [
  {
   "cell_type": "code",
   "execution_count": null,
   "id": "81702308-332b-4b00-b1d1-1fee7801a0aa",
   "metadata": {
    "scrolled": true
   },
   "outputs": [],
   "source": [
    "import pandas as pd\n",
    "from datetime import datetime\n",
    "\n",
    "file_path = 'geodatabase/data_excel/ft_24052024_08062024.xlsx'\n",
    "data = pd.read_excel(file_path, engine='openpyxl')\n",
    "data"
   ]
  },
  {
   "cell_type": "code",
   "execution_count": null,
   "id": "9fdb7b7a-aa64-4863-bd40-0fcd09baab23",
   "metadata": {
    "scrolled": true
   },
   "outputs": [],
   "source": [
    "date_str = '08/06/2024'\n",
    "date_str"
   ]
  },
  {
   "cell_type": "code",
   "execution_count": null,
   "id": "91f2de01-a6b8-4595-b1d4-faa17f7dffeb",
   "metadata": {
    "scrolled": true
   },
   "outputs": [],
   "source": [
    "rows = []\n",
    "\n",
    "for index, row in data.iterrows():\n",
    "    object_id = row['OBJECTID']\n",
    "    for phase in range(1, 15):\n",
    "        if phase == 10:  \n",
    "            continue\n",
    "        new_row = {\n",
    "            'object_id': int(object_id),\n",
    "            'fase_tanam': phase,\n",
    "            'luas (ha)': row[f'VALUE_{phase}'],\n",
    "            'tanggal': date_str\n",
    "        }\n",
    "        rows.append(new_row)\n",
    "\n",
    "result_df = pd.DataFrame(rows)\n",
    "result_df = result_df[result_df['luas (ha)'] != 0]\n",
    "output_file_path = 'repository/ft_24052024_08062024.xlsx'\n",
    "result_df.to_excel(output_file_path, index=False)\n",
    "\n",
    "output_csv_path = 'repository/ft_24052024_08062024.csv'\n",
    "result_df.to_csv(output_csv_path, index=False, sep=';', header=False)\n",
    "\n",
    "result_df.head()"
   ]
  },
  {
   "cell_type": "code",
   "execution_count": null,
   "id": "2fef451d-2c15-4f68-aafe-72c58f62366a",
   "metadata": {},
   "outputs": [],
   "source": []
  }
 ],
 "metadata": {
  "kernelspec": {
   "display_name": "agriculural",
   "language": "python",
   "name": "agriculural"
  },
  "language_info": {
   "codemirror_mode": {
    "name": "ipython",
    "version": 3
   },
   "file_extension": ".py",
   "mimetype": "text/x-python",
   "name": "python",
   "nbconvert_exporter": "python",
   "pygments_lexer": "ipython3",
   "version": "3.12.3"
  }
 },
 "nbformat": 4,
 "nbformat_minor": 5
}
